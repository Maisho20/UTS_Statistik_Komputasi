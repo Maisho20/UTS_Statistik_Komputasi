{
  "nbformat": 4,
  "nbformat_minor": 0,
  "metadata": {
    "colab": {
      "provenance": [],
      "mount_file_id": "1EwMpPe86zyyaZkQxvbyotSua81fpjk9j",
      "authorship_tag": "ABX9TyN3x619Cs7GoVx6ysCafP+0",
      "include_colab_link": true
    },
    "kernelspec": {
      "name": "python3",
      "display_name": "Python 3"
    },
    "language_info": {
      "name": "python"
    }
  },
  "cells": [
    {
      "cell_type": "markdown",
      "metadata": {
        "id": "view-in-github",
        "colab_type": "text"
      },
      "source": [
        "<a href=\"https://colab.research.google.com/github/Maisho20/UTS_Statistik_Komputasi/blob/main/UTS_Statistik_komputasi.ipynb\" target=\"_parent\"><img src=\"https://colab.research.google.com/assets/colab-badge.svg\" alt=\"Open In Colab\"/></a>"
      ]
    },
    {
      "cell_type": "code",
      "source": [
        "from google.colab import drive\n",
        "drive.mount('/content/drives/')"
      ],
      "metadata": {
        "colab": {
          "base_uri": "https://localhost:8080/"
        },
        "id": "dBDz0PbtJq1u",
        "outputId": "92228259-c2a7-4198-c50a-a4b5c66be7fc"
      },
      "execution_count": 3,
      "outputs": [
        {
          "output_type": "stream",
          "name": "stdout",
          "text": [
            "Mounted at /content/drives/\n"
          ]
        }
      ]
    },
    {
      "cell_type": "markdown",
      "source": [
        "### Soal 1A\n",
        "\n",
        "---\n",
        "\n"
      ],
      "metadata": {
        "id": "oM8oUqvIGKLZ"
      }
    },
    {
      "cell_type": "code",
      "source": [
        "print(\"Soal 1A\")\n",
        "print(\"Mencari mean, Varians, Simpangan baku\")\n",
        "print(\"\")\n",
        "import pandas as pd\n",
        "import numpy as np\n",
        "\n",
        "dt = pd.read_csv(\"/content/drives/MyDrive/Colab Notebooks/pop1.csv\")\n",
        "table = dt[\"height\"]\n",
        "\n",
        "mean = table.mean()\n",
        "variance = table.var()\n",
        "simpangan_baku = table.std()\n",
        "\n",
        "\n",
        "print(\"Mean: \", mean)\n",
        "print(\"Varians: \", variance)\n",
        "print(\"Simpangan baku: \", simpangan_baku)"
      ],
      "metadata": {
        "colab": {
          "base_uri": "https://localhost:8080/"
        },
        "id": "ERziINJv4hxi",
        "outputId": "ea935d25-fa96-47cf-b5e9-9cceccdb999b"
      },
      "execution_count": 4,
      "outputs": [
        {
          "output_type": "stream",
          "name": "stdout",
          "text": [
            "Soal 1A\n",
            "Mencari mean, Varians, Simpangan baku\n",
            "\n",
            "Mean:  170.035\n",
            "Varians:  126.1588765887659\n",
            "Simpangan baku:  11.232046856595902\n"
          ]
        }
      ]
    },
    {
      "cell_type": "markdown",
      "source": [
        "### Soal 1B\n",
        "\n",
        "---\n",
        "\n"
      ],
      "metadata": {
        "id": "-Hb9F15IGP6i"
      }
    },
    {
      "cell_type": "code",
      "source": [
        "print(\"Soal 1B\")\n",
        "print(\"Mencari kuartil\")\n",
        "print(\"\")\n",
        "\n",
        "kuartil1 = np.quantile(table, 0.25, method='midpoint')\n",
        "kuartil2 = np.quantile(table, 0.5, method='midpoint')\n",
        "kuartil3 = np.quantile(table, 0.75, method='midpoint')\n",
        "\n",
        "print(\"Q1: \", kuartil1)\n",
        "print(\"Q2: \", kuartil2)\n",
        "print(\"Q3: \", kuartil3)"
      ],
      "metadata": {
        "colab": {
          "base_uri": "https://localhost:8080/"
        },
        "id": "__NdbQIA78U-",
        "outputId": "ca14213d-dd92-40f2-bde7-7f075de4352a"
      },
      "execution_count": 5,
      "outputs": [
        {
          "output_type": "stream",
          "name": "stdout",
          "text": [
            "Soal 1B\n",
            "Mencari kuartil\n",
            "\n",
            "Q1:  162.0\n",
            "Q2:  170.0\n",
            "Q3:  178.0\n"
          ]
        }
      ]
    },
    {
      "cell_type": "markdown",
      "source": [
        "### Soal 1C\n",
        "\n",
        "---\n",
        "\n"
      ],
      "metadata": {
        "id": "nVldui4NGRoL"
      }
    },
    {
      "cell_type": "code",
      "source": [
        "print(\"Soal 1C\")\n",
        "print(\"Mencari Outlier\")\n",
        "print(\"\")\n",
        "\n",
        "IQR = kuartil3 - kuartil1\n",
        "lower_bound = kuartil1 - (1.5 * IQR)\n",
        "upper_bound = kuartil3 - (1.5 * IQR)\n",
        "\n",
        "lower = []\n",
        "upper = []\n",
        "for x in dt[\"height\"]:\n",
        "  if x < lower_bound:\n",
        "    lower.append(x)\n",
        "\n",
        "for x in dt[\"height\"]:\n",
        "  if x < upper_bound:\n",
        "    upper.append(x)\n",
        "a = min(lower)\n",
        "b = max(upper)\n",
        "\n",
        "print(\"IQR: \", IQR)\n",
        "print(\"Batas bawah: \", lower_bound)\n",
        "print(\"Batas atas: \", upper_bound)\n",
        "print(\"Outlier bawah: \", a)\n",
        "print(\"Outlier atas: \", b)"
      ],
      "metadata": {
        "colab": {
          "base_uri": "https://localhost:8080/"
        },
        "id": "T0MhNeFr9PiY",
        "outputId": "09a21ac0-fbe2-4994-fa37-3e1770672b35"
      },
      "execution_count": 6,
      "outputs": [
        {
          "output_type": "stream",
          "name": "stdout",
          "text": [
            "Soal 1C\n",
            "Mencari Outlier\n",
            "\n",
            "IQR:  16.0\n",
            "Batas bawah:  138.0\n",
            "Batas atas:  154.0\n",
            "Outlier bawah:  117\n",
            "Outlier atas:  153\n"
          ]
        }
      ]
    },
    {
      "cell_type": "markdown",
      "source": [
        "### Soal 2A\n",
        "\n",
        "---\n",
        "\n"
      ],
      "metadata": {
        "id": "nbO6CPoZGTox"
      }
    },
    {
      "cell_type": "code",
      "source": [
        "print(\"Soal 2A\")\n",
        "print(\"boxplot\")\n",
        "\n",
        "import matplotlib.pyplot as plt\n",
        "data = pd.read_csv('/content/drives/MyDrive/Colab Notebooks/pop1.csv')\n",
        "table = data['height']\n",
        "\n",
        "plt.title('boxplot height')\n",
        "plt.boxplot(table)\n",
        "plt.show()"
      ],
      "metadata": {
        "colab": {
          "base_uri": "https://localhost:8080/",
          "height": 487
        },
        "id": "UgImZwvk_qVH",
        "outputId": "58721549-ba92-4db9-e058-03eda2ca95e8"
      },
      "execution_count": 8,
      "outputs": [
        {
          "output_type": "stream",
          "name": "stdout",
          "text": [
            "Soal 2A\n",
            "boxplot\n"
          ]
        },
        {
          "output_type": "display_data",
          "data": {
            "text/plain": [
              "<Figure size 640x480 with 1 Axes>"
            ],
            "image/png": "[encoded data removed]"
          },
          "metadata": {}
        }
      ]
    },
    {
      "cell_type": "markdown",
      "source": [
        "### Soal 2B\n",
        "\n",
        "---\n",
        "\n"
      ],
      "metadata": {
        "id": "CmsmciVQGVTL"
      }
    },
    {
      "cell_type": "code",
      "source": [
        "print(\"Soal 2B\")\n",
        "print(\"Histogram\")\n",
        "print(\"\")\n",
        "\n",
        "\n",
        "plt.title('histogram height')\n",
        "plt.hist(table, bins=100)\n",
        "plt.show()"
      ],
      "metadata": {
        "colab": {
          "base_uri": "https://localhost:8080/",
          "height": 504
        },
        "id": "28QtuNzKDExx",
        "outputId": "602aaee5-8f88-47d4-d43e-9d10f5dced0e"
      },
      "execution_count": 9,
      "outputs": [
        {
          "output_type": "stream",
          "name": "stdout",
          "text": [
            "Soal 2B\n",
            "Histogram\n",
            "\n"
          ]
        },
        {
          "output_type": "display_data",
          "data": {
            "text/plain": [
              "<Figure size 640x480 with 1 Axes>"
            ],
            "image/png": "[encoded data removed]"
          },
          "metadata": {}
        }
      ]
    },
    {
      "cell_type": "markdown",
      "source": [
        "### Soal 3A\n",
        "\n",
        "---\n",
        "\n"
      ],
      "metadata": {
        "id": "XBz8dt60GXJp"
      }
    },
    {
      "cell_type": "code",
      "source": [
        "print(\"Soal 3A\")\n",
        "print(\"z-score tinggi badan lebih dari 175\")\n",
        "print(\"\")\n",
        "\n",
        "mean = table.mean()\n",
        "simpangan_baku = table.std()\n",
        "z_score = (175 - mean) / simpangan_baku\n",
        "\n",
        "print(\"z-score untuk tinggi badan > 175:\", z_score)"
      ],
      "metadata": {
        "colab": {
          "base_uri": "https://localhost:8080/"
        },
        "id": "0V91ztEeEFEf",
        "outputId": "63917ce7-b693-4187-fe5e-ede36ce6b2c0"
      },
      "execution_count": 11,
      "outputs": [
        {
          "output_type": "stream",
          "name": "stdout",
          "text": [
            "Soal 3A\n",
            "z-score tinggi badan lebih dari 175\n",
            "\n",
            "z-score untuk tinggi badan > 175: 0.44203875423510713\n"
          ]
        }
      ]
    },
    {
      "cell_type": "markdown",
      "source": [
        "### Soal 3B\n",
        "\n",
        "---\n",
        "\n"
      ],
      "metadata": {
        "id": "rhDEf2BLGaUa"
      }
    },
    {
      "cell_type": "code",
      "source": [
        "print(\"Soal 3A\")\n",
        "print(\"peluang orang dengan tinggi badan lebih dari 175\")\n",
        "print(\"\")\n",
        "\n",
        "n = 175\n",
        "\n",
        "data_filter = table[table > n]\n",
        "peluang = len(data_filter) / len(table)\n",
        "\n",
        "print(\"peluang TB > 175: \", peluang)"
      ],
      "metadata": {
        "colab": {
          "base_uri": "https://localhost:8080/"
        },
        "id": "QichudEEGZ1y",
        "outputId": "9e6eea43-c720-48ee-c054-ac5c5ce54937"
      },
      "execution_count": 13,
      "outputs": [
        {
          "output_type": "stream",
          "name": "stdout",
          "text": [
            "Soal 3A\n",
            "peluang orang dengan tinggi badan lebih dari 175\n",
            "\n",
            "peluang TB > 175:  0.31733\n"
          ]
        }
      ]
    },
    {
      "cell_type": "markdown",
      "source": [
        "### Soal 4A\n",
        "\n",
        "---\n",
        "\n"
      ],
      "metadata": {
        "id": "WG-g74dXMoha"
      }
    },
    {
      "cell_type": "code",
      "source": [
        "print(\"Soal 4A\")\n",
        "print(\"Peluang male dan female\")\n",
        "print(\"\")\n",
        "from numpy.core.multiarray import dtype\n",
        "\n",
        "dt = pd.read_csv('/content/drives/MyDrive/Colab Notebooks/pop1.csv')\n",
        "male = dt[dt['sex'] == 'MALE'].count()[0]\n",
        "female = dt[dt['sex'] == 'FEMALE'].count()[0]\n",
        "total = dt.count()[0]\n",
        "\n",
        "peluang_male = (male / female) * total\n",
        "peluang_female = (female / male) * total\n",
        "\n",
        "print('Total MALE: ', male)\n",
        "print('Total FEMALE: ', female)\n",
        "print('Total Data: ', total)\n",
        "print(\"``````````````````````````````````\")\n",
        "print('Peluang MALE:', peluang_male)\n",
        "print('Peluang FEMALE:', peluang_female)"
      ],
      "metadata": {
        "colab": {
          "base_uri": "https://localhost:8080/"
        },
        "id": "HTyX9nNnMqr4",
        "outputId": "054675e4-ab0c-4141-c6ea-e949c1256596"
      },
      "execution_count": 16,
      "outputs": [
        {
          "output_type": "stream",
          "name": "stdout",
          "text": [
            "Soal 4A\n",
            "Peluang male dan female\n",
            "\n",
            "Total MALE:  51112\n",
            "Total FEMALE:  48888\n",
            "Total Data:  100000\n",
            "``````````````````````````````````\n",
            "Peluang MALE: 104549.17362133857\n",
            "Peluang FEMALE: 95648.77132571608\n"
          ]
        }
      ]
    },
    {
      "cell_type": "markdown",
      "source": [
        "### Soal 4B\n",
        "\n",
        "---\n",
        "\n",
        "##### Peluang terpilihnya 3 laki-laki dari 10 orang yang dipilih secara acak dapat dihitung dengan menggunakan rumus peluang binomial:\n",
        "\n",
        "##### dengan **n = 10** (jumlah percobaan), **k = 3** (jumlah keberhasilan), **p = 0.5** (peluang kegagalan dalam satu percobaan).\n",
        "\n",
        "##### menggunakan rumus\n",
        "**P(X = 3) = C(n,k) * p^k * (1-p)^n-k**\n",
        "\n",
        "##### sehingga, menghasilkan:\n",
        "**P(X = 3) = C(10,3) * (0,5)^3 * (0,5)^10-3**\n",
        "\n",
        "**P(X = 3) = C(10,3) * (0,5)^3 * (0,5)^7**\n",
        "\n",
        "**P(X = 3) = 120 * 0,125 * 0,0078125**\n",
        "\n",
        "**P(X = 3) = 0,1171875**\n",
        "\n",
        "##### Maka peluang terpilihnya 3 laki-laki dari 10 orang yang dipilih secara acak adalah **0,1171875 = 0,1172 = 11,72%**"
      ],
      "metadata": {
        "id": "gDNWxdJ8P84b"
      }
    },
    {
      "cell_type": "markdown",
      "source": [
        "### Soal 4C\n",
        "\n",
        "---\n",
        "\n"
      ],
      "metadata": {
        "id": "6jDJQRUwPK5a"
      }
    },
    {
      "cell_type": "code",
      "source": [
        "print(\"Soal 4C\")\n",
        "print(\"Visualisasi terpilihnya laki-laki / male dari 0 hingg 10\")\n",
        "print(\"\")\n",
        "\n",
        "import matplotlib.pyplot as plt\n",
        "import scipy\n",
        "\n",
        "n = 10\n",
        "p = 0.5\n",
        "\n",
        "x = range(n+1)\n",
        "y = [scipy.special.comb(n, i) * p**i * (1-p)**(n-i) for i in x]\n",
        "\n",
        "plt.bar(x, y)\n",
        "plt.xlabel('Jumlah Laki-laki')\n",
        "plt.ylabel('Peluang')\n",
        "plt.title('Distribusi Terpilihnya Laki-laki')\n",
        "plt.show()"
      ],
      "metadata": {
        "colab": {
          "base_uri": "https://localhost:8080/",
          "height": 524
        },
        "id": "EuV2x43DPGvL",
        "outputId": "0507a439-9131-42cf-d3e2-158788e4f64d"
      },
      "execution_count": 17,
      "outputs": [
        {
          "output_type": "stream",
          "name": "stdout",
          "text": [
            "Soal 4C\n",
            "Visualisasi terpilihnya laki-laki / male dari 0 hingg 10\n",
            "\n"
          ]
        },
        {
          "output_type": "display_data",
          "data": {
            "text/plain": [
              "<Figure size 640x480 with 1 Axes>"
            ],
            "image/png": "[encoded data removed]"
          },
          "metadata": {}
        }
      ]
    }
  ]
}